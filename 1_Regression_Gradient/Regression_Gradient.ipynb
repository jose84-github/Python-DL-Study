{
  "nbformat": 4,
  "nbformat_minor": 0,
  "metadata": {
    "colab": {
      "name": "Untitled0.ipynb",
      "provenance": []
    },
    "kernelspec": {
      "name": "python3",
      "display_name": "Python 3"
    }
  },
  "cells": [
    {
      "cell_type": "code",
      "metadata": {
        "colab": {
          "base_uri": "https://localhost:8080/"
        },
        "id": "pB4qUU2KlMrP",
        "outputId": "67dbefdf-b0c9-4ea7-e19b-e4922dea019e"
      },
      "source": [
        "x = list(range(10))\r\n",
        "y = [1,1,2,4,5,7,8,9,9,10]\r\n",
        "\r\n",
        "print(len(y))\r\n",
        "print(len(x))"
      ],
      "execution_count": 9,
      "outputs": [
        {
          "output_type": "stream",
          "text": [
            "10\n",
            "10\n"
          ],
          "name": "stdout"
        }
      ]
    },
    {
      "cell_type": "code",
      "metadata": {
        "colab": {
          "base_uri": "https://localhost:8080/",
          "height": 284
        },
        "id": "seZV9PGam-Ke",
        "outputId": "0d7c5bda-07e6-46d7-fa44-06e51383ade9"
      },
      "source": [
        "import matplotlib.pyplot as plt\r\n",
        "plt.plot(x,y)\r\n",
        "plt.scatter(x,y)"
      ],
      "execution_count": 14,
      "outputs": [
        {
          "output_type": "execute_result",
          "data": {
            "text/plain": [
              "<matplotlib.collections.PathCollection at 0x7ff672f14c50>"
            ]
          },
          "metadata": {
            "tags": []
          },
          "execution_count": 14
        },
        {
          "output_type": "display_data",
          "data": {
            "image/png": "[encoded data removed]",
            "text/plain": [
              "<Figure size 432x288 with 1 Axes>"
            ]
          },
          "metadata": {
            "tags": [],
            "needs_background": "light"
          }
        }
      ]
    },
    {
      "cell_type": "code",
      "metadata": {
        "colab": {
          "base_uri": "https://localhost:8080/"
        },
        "id": "6Xg2_5AynAJb",
        "outputId": "78c21ae3-81ff-45fa-d9a0-9f4fcbbcd4da"
      },
      "source": [
        "# Hypothesis Define\r\n",
        "class H():\r\n",
        "\r\n",
        "  def __init__(self, w):\r\n",
        "    self.w = w\r\n",
        "\r\n",
        "  def forward(self, x):\r\n",
        "    return self.w * x\r\n",
        "\r\n",
        "# Cost Function Define\r\n",
        "def cost(h, x, y):\r\n",
        "  error = 0\r\n",
        "  for i in range(len(x)):\r\n",
        "    error += (h.forward(x[i]) - y[i])**2\r\n",
        "  error = error / len(x)\r\n",
        "  return error\r\n",
        "  \r\n",
        "h = H(4)\r\n",
        "cost(h, x, y)"
      ],
      "execution_count": 20,
      "outputs": [
        {
          "output_type": "execute_result",
          "data": {
            "text/plain": [
              "222.2"
            ]
          },
          "metadata": {
            "tags": []
          },
          "execution_count": 20
        }
      ]
    },
    {
      "cell_type": "code",
      "metadata": {
        "colab": {
          "base_uri": "https://localhost:8080/",
          "height": 461
        },
        "id": "NH7tppCor6ic",
        "outputId": "7a91ab39-9619-401f-9ec7-575e1b9b4659"
      },
      "source": [
        "list_w = []\r\n",
        "list_c = []\r\n",
        "for i in range(-100, 100):\r\n",
        "  w = i * 0.1\r\n",
        "  h = H(w)\r\n",
        "  c = cost(h, x, y)\r\n",
        "  list_w.append(w)\r\n",
        "  list_c.append(c)\r\n",
        "\r\n",
        "plt.figure(figsize=(7,7))\r\n",
        "plt.xlabel('w')\r\n",
        "plt.ylabel('cost')\r\n",
        "plt.scatter(list_w, list_c, s=0.3)"
      ],
      "execution_count": 36,
      "outputs": [
        {
          "output_type": "execute_result",
          "data": {
            "text/plain": [
              "<matplotlib.collections.PathCollection at 0x7ff672a1f358>"
            ]
          },
          "metadata": {
            "tags": []
          },
          "execution_count": 36
        },
        {
          "output_type": "display_data",
          "data": {
            "image/png": "[encoded data removed]",
            "text/plain": [
              "<Figure size 504x504 with 1 Axes>"
            ]
          },
          "metadata": {
            "tags": [],
            "needs_background": "light"
          }
        }
      ]
    },
    {
      "cell_type": "code",
      "metadata": {
        "colab": {
          "base_uri": "https://localhost:8080/",
          "height": 308
        },
        "id": "42SZjJywvAG9",
        "outputId": "1ad730b2-8cfd-4a25-976e-098273ded954"
      },
      "source": [
        "def cal_grad(w, cost):\r\n",
        "  h = H(w)\r\n",
        "  cost1 = cost(h, x, y)\r\n",
        "  eps = 0.0001\r\n",
        "  h = H(w+eps)\r\n",
        "  cost2 = cost(h, x, y)\r\n",
        "  dcost = cost2 - cost1\r\n",
        "  dw = eps\r\n",
        "  grad = dcost / dw\r\n",
        "  return grad, (cost1 + cost2)*0.5\r\n",
        "\r\n",
        "def cal_grad2(w, cost):\r\n",
        "  h = H(w)\r\n",
        "  grad = 0\r\n",
        "  for i in range(len(x)):\r\n",
        "    grad += 2 * (h.forward(x[i]) - y[i]) * x[i]\r\n",
        "  grad = grad / len(x)\r\n",
        "  c = cost(h, x, y)\r\n",
        "  return grad, c\r\n",
        "\r\n",
        "w1=1.4\r\n",
        "w2=1.4\r\n",
        "lr = 0.1\r\n",
        "list_w1 = []\r\n",
        "list_c1 = []\r\n",
        "list_w2 = []\r\n",
        "list_c2 = []\r\n",
        "\r\n",
        "for i in range(100):\r\n",
        "  grad, mean_cost = cal_grad(w1, cost)\r\n",
        "  grad2, mean_cost2 = cal_grad2(w2, cost)\r\n",
        "  \r\n",
        "  w1 -= lr * grad\r\n",
        "  w2 -= lr * grad2\r\n",
        "  list_w1.append(w1)\r\n",
        "  list_w2.append(w2)\r\n",
        "  list_c1.append(mean_cost)\r\n",
        "  list_c2.append(mean_cost2)\r\n",
        "\r\n",
        "plt.scatter(list_w1, list_c1)\r\n",
        "plt.scatter(list_w2, list_c2)"
      ],
      "execution_count": 56,
      "outputs": [
        {
          "output_type": "execute_result",
          "data": {
            "text/plain": [
              "<matplotlib.collections.PathCollection at 0x7ff6733bce10>"
            ]
          },
          "metadata": {
            "tags": []
          },
          "execution_count": 56
        },
        {
          "output_type": "display_data",
          "data": {
            "image/png": "[encoded data removed]",
            "text/plain": [
              "<Figure size 432x288 with 1 Axes>"
            ]
          },
          "metadata": {
            "tags": [],
            "needs_background": "light"
          }
        }
      ]
    }
  ]
}